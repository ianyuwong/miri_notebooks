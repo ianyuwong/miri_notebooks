{
 "cells": [
  {
   "cell_type": "markdown",
   "id": "82982978",
   "metadata": {},
   "source": [
    "<img style=\"float: center;\" src='https://github.com/spacetelescope/jwst-pipeline-notebooks/raw/main/_static/stsci_header.png' alt=\"stsci_logo\" width=\"900px\"/> "
   ]
  },
  {
   "attachments": {},
   "cell_type": "markdown",
   "id": "e15dc75e-9746-4d68-ac21-fc3383897a70",
   "metadata": {},
   "source": [
    "<a id=\"title_ID\"></a>\n",
    "# MIRI EMICORR Testing Notebook #\n",
    "\n",
    "**Authors**: Ian Wong; MIRI branch<br>\n",
    "**Last Updated**: February 25, 2025<br>\n",
    "**Pipeline Version**: Pull request #9216"
   ]
  },
  {
   "cell_type": "markdown",
   "id": "243c6347",
   "metadata": {},
   "source": [
    "**Purpose**:<br>\n",
    "This notebook compares the performance of the standard (original) algorithm within the `emicorr` step with Timothy Brandt's new methodology.\n",
    "\n",
    "**Data**:<br>\n",
    "This example is set up to use the dedicated background observations associated with the LRS slitless observations of the A-type flux calibrator star HR 5467 (PID 4496, Obs 12).<br>\n",
    "\n",
    "**JWST pipeline version and CRDS context**:<br>\n",
    "This notebook was written for the calibration pipeline version listed above, which is currently a pull request and not part of a public release.<br>\n",
    "\n",
    "**Recent Changes**:<br>\n",
    "Feb 25 2025: Notebook created."
   ]
  },
  {
   "cell_type": "markdown",
   "id": "44864703",
   "metadata": {},
   "source": [
    "<hr style=\"border:1px solid gray\"> </hr>"
   ]
  },
  {
   "cell_type": "markdown",
   "id": "054b4801",
   "metadata": {},
   "source": [
    "## Table of Contents\n",
    "\n",
    "1. [Configuration](#1.-Configuration)\n",
    "2. [Package Imports](#2.-Package-Imports)\n",
    "3. [Demo Mode Setup](#3.-Demo-Mode-Setup-(ignore-if-not-using-demo-data))\n",
    "4. [Directory Setup](#4.-Directory-Setup)\n",
    "5. [Detector1 Pipeline](#5.-Detector1-Pipeline)\n",
    "6. [Compare Outputs](#6.-Compare-Outputs)"
   ]
  },
  {
   "cell_type": "markdown",
   "id": "e944b039",
   "metadata": {},
   "source": [
    "<hr style=\"border:1px solid gray\"> </hr>"
   ]
  },
  {
   "cell_type": "markdown",
   "id": "9b0eaabd",
   "metadata": {},
   "source": [
    "1.<font color='white'>-</font>Configuration<a class=\"anchor\" id=\"intro\"></a>\n",
    "------------------\n",
    "### Install dependencies\n",
    "To make sure that the pipeline version is compatabile with this notebook and the required dependencies and packages are installed,\n",
    "it is recommended that users create a new dedicated conda environment and install the provided\n",
    "`requirements.txt` file before starting this notebook: <br>\n",
    "```\n",
    "conda create -n lrs_emicorr_test python=3.12\n",
    "conda activate lrs_emicorr_test\n",
    "pip install git+https://github.com/user/jwst.git@refs/pull/9216/head\n",
    "pip install -r requirements.txt\n",
    "```"
   ]
  },
  {
   "cell_type": "code",
   "execution_count": null,
   "id": "5303cb4b",
   "metadata": {},
   "outputs": [],
   "source": [
    "# Basic import necessary for configuration\n",
    "import os"
   ]
  },
  {
   "cell_type": "markdown",
   "id": "9f8508f3",
   "metadata": {},
   "source": [
    "<div class=\"alert alert-block alert-warning\">\n",
    "Note that <code>demo_mode</code> must be set appropriately below.\n",
    "</div>\n",
    "\n",
    "Set <code>demo_mode = True </code> to run in demonstration mode. In this mode, this\n",
    "notebook will download the example data from the\n",
    "Barbara A. Mikulski Archive for Space Telescopes (MAST) and process them through the pipeline.\n",
    "All input and output data will be stored in the local directory unless modified\n",
    "in [Section 3](#3.-Demo-Mode-Setup-(ignore-if-not-using-demo-data)) below. \n",
    "\n",
    "Set <code>demo_mode = False</code> to process user-specified data that have already\n",
    "been downloaded and provide the location of the data.<br>"
   ]
  },
  {
   "cell_type": "code",
   "execution_count": null,
   "id": "05351b95",
   "metadata": {},
   "outputs": [],
   "source": [
    "# Set parameters for demo_mode, data directory, and processing steps\n",
    "\n",
    "# -----------------------------Demo Mode---------------------------------\n",
    "demo_mode = True\n",
    "\n",
    "if demo_mode:\n",
    "    print('Running in demonstration mode using online example data!')\n",
    "\n",
    "# --------------------------User Mode Directories------------------------\n",
    "# If demo_mode = False, look for user data in these paths\n",
    "if not demo_mode:\n",
    "    # Set directory paths for processing specific data; these will need\n",
    "    # to be changed to the user's local directory setup (paths below are given as\n",
    "    # examples).\n",
    "    basedir = os.path.join(os.getcwd(), 'lrs_tso_demo_data')\n",
    "\n",
    "    # Point to where the observation data are stored.\n",
    "    # Assumes uncalibrated data in obs_dir/uncal/\n",
    "    obs_dir = os.path.join(basedir, 'PID04496Obs012/')"
   ]
  },
  {
   "cell_type": "markdown",
   "id": "cb7c90aa",
   "metadata": {},
   "source": [
    "### Set CRDS context and server\n",
    "Before importing <code>CRDS</code> and <code>JWST</code> modules, we need to configure our environment. This includes defining a CRDS cache directory in which to keep the reference files that will be used by the calibration pipeline.\n",
    "\n",
    "If the root directory for the local CRDS cache directory has not been set already, it will be automatically created in the home directory."
   ]
  },
  {
   "cell_type": "code",
   "execution_count": null,
   "id": "a0ce6867",
   "metadata": {},
   "outputs": [],
   "source": [
    "# ------------------------Set CRDS context and paths----------------------\n",
    "# Set CRDS reference file context.  Leave commented out to use the default context\n",
    "# (latest reference files associated with the calibration pipeline version)\n",
    "# or set a specific context here.\n",
    "#%env CRDS_CONTEXT  jwst_1295.pmap\n",
    "\n",
    "# Check whether the local CRDS cache directory has been set.\n",
    "# If not, set it to the user home directory.\n",
    "if (os.getenv('CRDS_PATH') is None):\n",
    "    os.environ['CRDS_PATH'] = os.path.join(os.path.expanduser('~'), 'crds')\n",
    "    \n",
    "# Check whether the CRDS server URL has been set.  If not, set it.\n",
    "if (os.getenv('CRDS_SERVER_URL') is None):\n",
    "    os.environ['CRDS_SERVER_URL'] = 'https://jwst-crds.stsci.edu'\n",
    "\n",
    "# Print out CRDS path and context that will be used\n",
    "print('CRDS local filepath:', os.environ['CRDS_PATH'])\n",
    "print('CRDS file server:', os.environ['CRDS_SERVER_URL'])"
   ]
  },
  {
   "cell_type": "markdown",
   "id": "521abfd1",
   "metadata": {},
   "source": [
    "<hr style=\"border:1px solid gray\"> </hr>"
   ]
  },
  {
   "cell_type": "markdown",
   "id": "696294f6",
   "metadata": {},
   "source": [
    "## 2.<font color='white'>-</font>Package Imports<a class=\"anchor\" id=\"intro\"></a>"
   ]
  },
  {
   "cell_type": "markdown",
   "id": "1be23f16",
   "metadata": {},
   "source": [
    "Automatically import necessary Python packages for use in the data processing and visualization."
   ]
  },
  {
   "cell_type": "code",
   "execution_count": null,
   "id": "faa7660f",
   "metadata": {},
   "outputs": [],
   "source": [
    "# Use the entire available screen width for this notebook\n",
    "from IPython.display import display, HTML\n",
    "display(HTML(\"<style>.container { width:95% !important; }</style>\"))"
   ]
  },
  {
   "cell_type": "code",
   "execution_count": null,
   "id": "4ca96f7d",
   "metadata": {},
   "outputs": [],
   "source": [
    "# Basic system utilities for interacting with files\n",
    "# ----------------------General Imports------------------------------------\n",
    "import glob\n",
    "import time\n",
    "from pathlib import Path\n",
    "\n",
    "# Numpy for doing calculations\n",
    "import numpy as np\n",
    "\n",
    "# -----------------------Astropy Imports-----------------------------------\n",
    "# Astropy utilities for opening FITS and ASCII files and downloading demo files\n",
    "from astropy.io import fits\n",
    "from astroquery.mast import Observations\n",
    "\n",
    "# -----------------------Plotting Imports----------------------------------\n",
    "# Matplotlib for making plots\n",
    "import matplotlib.pyplot as plt\n",
    "from matplotlib import rc"
   ]
  },
  {
   "cell_type": "code",
   "execution_count": null,
   "id": "cf2d1204",
   "metadata": {},
   "outputs": [],
   "source": [
    "# --------------JWST Calibration Pipeline Imports---------------------------\n",
    "# Import the base JWST and calibration reference data packages\n",
    "import jwst\n",
    "import crds\n",
    "\n",
    "# JWST pipelines (each encompassing many steps)\n",
    "from jwst.pipeline import Detector1Pipeline\n",
    "\n",
    "# JWST pipeline utilities\n",
    "from jwst import datamodels  # JWST datamodels\n",
    "\n",
    "# Print out pipeline version and CRDS context that will be used\n",
    "print(\"JWST Calibration Pipeline Version = {}\".format(jwst.__version__))\n",
    "print(\"Using CRDS Context = {}\".format(crds.get_context_name('jwst')))"
   ]
  },
  {
   "cell_type": "code",
   "execution_count": null,
   "id": "e181ba6e",
   "metadata": {},
   "outputs": [],
   "source": [
    "# Start a timer to keep track of runtime\n",
    "time0 = time.perf_counter()"
   ]
  },
  {
   "cell_type": "markdown",
   "id": "aa4be7f3",
   "metadata": {},
   "source": [
    "<hr style=\"border:1px solid gray\"> </hr>"
   ]
  },
  {
   "cell_type": "markdown",
   "id": "235c05aa",
   "metadata": {},
   "source": [
    "3.<font color='white'>-</font>Demo Mode Setup<a class=\"anchor\" id=\"intro\"></a> (ignore if not using demo data)\n",
    "------------------\n",
    "If running in demonstration mode, set up the program information to\n",
    "retrieve the uncalibrated data automatically from MAST using\n",
    "[astroquery](https://astroquery.readthedocs.io/en/latest/mast/mast.html).\n",
    "MAST allows for flexibility of searching by the proposal ID and the\n",
    "observation ID instead of just filenames.<br>\n",
    "\n",
    "More information about the JWST file naming conventions can be found at:\n",
    "https://jwst-pipeline.readthedocs.io/en/latest/jwst/data_products/file_naming.html"
   ]
  },
  {
   "cell_type": "code",
   "execution_count": null,
   "id": "e9db3700",
   "metadata": {},
   "outputs": [],
   "source": [
    "# Set up the program information and paths for demo program\n",
    "if demo_mode:\n",
    "    program = \"04496\"\n",
    "    obs_numb = \"012\"\n",
    "    basedir = os.path.join('.', 'lrs_demo_data')\n",
    "    obs_dir = os.path.join(basedir, 'PID' + program + 'Obs' + obs_numb)\n",
    "    uncal_dir = os.path.join(obs_dir, 'uncal')\n",
    "\n",
    "    # Ensure filepaths for input data exists\n",
    "    os.makedirs(uncal_dir, exist_ok=True)"
   ]
  },
  {
   "cell_type": "markdown",
   "id": "e158aaa4",
   "metadata": {},
   "source": [
    "Identify the list of uncalibrated files associated with the science and background observations."
   ]
  },
  {
   "cell_type": "code",
   "execution_count": null,
   "id": "a4ff90fb",
   "metadata": {},
   "outputs": [],
   "source": [
    "# Obtain a list of observation IDs for the specified demo program\n",
    "if demo_mode:\n",
    "    obs_id_table = Observations.query_criteria(instrument_name=[\"MIRI/SLITLESS\"],\n",
    "                                                   provenance_name=[\"CALJWST\"],  # Executed observations\n",
    "                                                   obs_id=['jw' + program + obs_numb + '*']\n",
    "                                                   )"
   ]
  },
  {
   "cell_type": "code",
   "execution_count": null,
   "id": "8ae87ef2",
   "metadata": {},
   "outputs": [],
   "source": [
    "# Turn the list of observations into a list of uncalibrated data files\n",
    "if demo_mode:\n",
    "    # Define types of files to select\n",
    "    file_dict = {'uncal': {'product_type': 'SCIENCE', \n",
    "                           'productSubGroupDescription': 'UNCAL', \n",
    "                           'calib_level': [1]}}\n",
    "\n",
    "    files_to_download = []\n",
    "    # Loop over visits identifying uncalibrated files that are associated with them\n",
    "    for exposure in (obs_id_table):\n",
    "        products = Observations.get_product_list(exposure)\n",
    "        for filetype, query_dict in file_dict.items():\n",
    "            filtered_products = Observations.filter_products(products, productType=query_dict['product_type'],\n",
    "                                                             productSubGroupDescription=query_dict['productSubGroupDescription'],\n",
    "                                                             calib_level=query_dict['calib_level'])\n",
    "            files_to_download.extend(filtered_products['dataURI'])\n",
    "\n",
    "    print(\"Number of science files selected for downloading: \", len(files_to_download))"
   ]
  },
  {
   "cell_type": "markdown",
   "id": "f556ba8d",
   "metadata": {},
   "source": [
    "Download all the uncal files and place them into the appropriate directories.\n",
    "\n",
    "<div class=\"alert alert-block alert-warning\">\n",
    "Warning: If this notebook is halted during this step, the downloaded files may be incomplete and cause crashes later on!\n",
    "</div>"
   ]
  },
  {
   "cell_type": "code",
   "execution_count": null,
   "id": "dc769f1b",
   "metadata": {},
   "outputs": [],
   "source": [
    "if demo_mode:\n",
    "    for filename in files_to_download:\n",
    "        obs_manifest = Observations.download_file(filename, local_path=os.path.join(uncal_dir, Path(filename).name))"
   ]
  },
  {
   "cell_type": "markdown",
   "id": "4716f347",
   "metadata": {},
   "source": [
    "<hr style=\"border:1px solid gray\"> </hr>"
   ]
  },
  {
   "cell_type": "markdown",
   "id": "bc43839c",
   "metadata": {},
   "source": [
    "4.<font color='white'>-</font>Directory Setup<a class=\"anchor\" id=\"intro\"></a>\n",
    "------------------\n",
    "Set up detailed paths to input/output stages here. When running this notebook outside of demo mode, the uncalibrated pipeline input files must be placed into the appropriate directories before proceeding to the JWST pipeline processing.\n",
    "\n",
    "There are separate output directories for the cases using the standard vs. new `emicorr` algorithm."
   ]
  },
  {
   "cell_type": "code",
   "execution_count": null,
   "id": "e04641a7",
   "metadata": {},
   "outputs": [],
   "source": [
    "# Define output subdirectories to keep science data products organized\n",
    "uncal_dir = os.path.join(obs_dir, 'uncal')     # Uncalibrated pipeline inputs should be here\n",
    "det1_dir = os.path.join(obs_dir, 'stage1')     # calwebb_detector1 pipeline outputs will go here\n",
    "\n",
    "# Define output subdirectories for new emicorr version\n",
    "det1_dir_new = os.path.join(obs_dir, 'stage1new')       \n",
    "\n",
    "# Create desired output directories, if needed\n",
    "os.makedirs(det1_dir, exist_ok=True)\n",
    "os.makedirs(det1_dir_new, exist_ok=True)"
   ]
  },
  {
   "cell_type": "markdown",
   "id": "2048f37d",
   "metadata": {},
   "source": [
    "<hr style=\"border:1px solid gray\"> </hr>"
   ]
  },
  {
   "cell_type": "markdown",
   "id": "5eebd9f8",
   "metadata": {},
   "source": [
    "5.<font color='white'>-</font>Detector1 Pipeline<a class=\"anchor\" id=\"det1\"></a>\n",
    "------------------\n",
    "In this section, the uncalibrated data are processed through the Detector1\n",
    "pipeline to create Stage 1 data products, which include 2D countrate\n",
    "images that have been averaged over all integrations (`*_rate.fits` files) and 3D cubes containing fitted ramp slopes for each integration (`*_rateints.fits` files).  For TSOs, the integrations must be calibrated separately in the subsequent stages, so the `*_rateints.fits` files are the relevant outputs. The Stage 1 data products have units of DN/s.<br>\n",
    "    \n",
    "Unlike in the case of MIRI LRS slit mode observations, the `firstframe` and `rscd` steps are skipped by default of TSOs.<br>\n",
    "\n",
    "See https://jwst-docs.stsci.edu/jwst-science-calibration-pipeline/stages-of-jwst-data-processing/calwebb_detector1 for a detailed overview of the various pipeline steps that comprise Detector1."
   ]
  },
  {
   "cell_type": "markdown",
   "id": "254b1274",
   "metadata": {},
   "source": [
    "### Processing Using Standard EMICORR Algorithm"
   ]
  },
  {
   "cell_type": "markdown",
   "id": "520c5cfa",
   "metadata": {},
   "source": [
    "<div class=\"alert alert-block alert-warning\">\n",
    "To override certain steps and reference files, use the examples provided below.<br>\n",
    "E.g., turn on detection of cosmic ray showers.\n",
    "</div>\n",
    "\n",
    "Set up a dictionary to define how the Detector1 pipeline should be configured."
   ]
  },
  {
   "cell_type": "code",
   "execution_count": null,
   "id": "6c0fc278",
   "metadata": {},
   "outputs": [],
   "source": [
    "time_det1 = time.perf_counter()"
   ]
  },
  {
   "cell_type": "code",
   "execution_count": null,
   "id": "fa1c08e4-6c03-4a91-82c7-b3ef975beaef",
   "metadata": {},
   "outputs": [],
   "source": [
    "# Boilerplate dictionary setup\n",
    "det1dict = {}\n",
    "det1dict['group_scale'], det1dict['dq_init'], det1dict['emicorr'], det1dict['saturation'], det1dict['ipc'] = {}, {}, {}, {}, {}\n",
    "det1dict['firstframe'], det1dict['lastframe'], det1dict['reset'], det1dict['linearity'], det1dict['rscd'] = {}, {}, {}, {}, {}\n",
    "det1dict['dark_current'], det1dict['refpix'], det1dict['charge_migration'], det1dict['jump'], det1dict['ramp_fit'] = {}, {}, {}, {}, {}\n",
    "det1dict['gain_scale'] = {}\n",
    "\n",
    "# Turn on detection of cosmic ray showers if desired (off by default)\n",
    "det1dict['jump']['find_showers'] = True\n",
    "\n",
    "# Adjust the flagging threshold for cosmic rays (default is 3.0)\n",
    "det1dict['jump']['rejection_threshold'] = 5.0"
   ]
  },
  {
   "cell_type": "markdown",
   "id": "77153d20-4798-4315-a212-28b9a7c8a4d9",
   "metadata": {},
   "source": [
    "Select for only the science data from the target observation, excluding target acquisition and/or pointing verification exposures. For the demo example, there should be only one file, corresponding to a contiguous segment of time-resolved integrations, but for longer TSOs, the full series of exposures may be split into several segments due to file size constraints."
   ]
  },
  {
   "cell_type": "code",
   "execution_count": null,
   "id": "900e8bdf",
   "metadata": {},
   "outputs": [],
   "source": [
    "# Grab all downloaded uncal files\n",
    "uncal_files = sorted(glob.glob(os.path.join(uncal_dir, '*_uncal.fits')))\n",
    "\n",
    "# Only choose science exposures, which have the exposure type setting 'MIR_LRS-FIXEDSLIT'\n",
    "input_files = np.array([fi for fi in uncal_files if fits.getheader(fi, 'PRIMARY')['EXP_TYPE'] == 'MIR_LRS-SLITLESS'])\n",
    "\n",
    "print('Found ' + str(len(input_files)) + ' science uncal files')"
   ]
  },
  {
   "cell_type": "markdown",
   "id": "1669b4b1",
   "metadata": {},
   "source": [
    "Run the Detector1 pipeline on the selected uncalibrated data using the call method. This process may take several minutes per file."
   ]
  },
  {
   "cell_type": "code",
   "execution_count": null,
   "id": "abcc1cbb",
   "metadata": {},
   "outputs": [],
   "source": [
    "# Run the pipeline on the selected input files one by one with the custom parameter dictionary \n",
    "for file in input_files:\n",
    "    Detector1Pipeline.call(file, steps=det1dict, save_results=True, output_dir=det1_dir)"
   ]
  },
  {
   "cell_type": "markdown",
   "id": "034cd83e",
   "metadata": {},
   "source": [
    "### Processing Using Updated EMICORR Algorithm\n",
    "\n",
    "Repeat above steps, but for the updated `emicorr` algorithm."
   ]
  },
  {
   "cell_type": "code",
   "execution_count": null,
   "id": "ebcb2862",
   "metadata": {},
   "outputs": [],
   "source": [
    "# Set new emicorr method\n",
    "det1dict['emicorr']['algorithm'] = 'joint'"
   ]
  },
  {
   "cell_type": "code",
   "execution_count": null,
   "id": "9a9cef98",
   "metadata": {},
   "outputs": [],
   "source": [
    "# Run the pipeline on the selected input files one by one with the custom parameter dictionary \n",
    "for file in input_files:\n",
    "    Detector1Pipeline.call(file, steps=det1dict, save_results=True, output_dir=det1_dir_new)"
   ]
  },
  {
   "cell_type": "code",
   "execution_count": null,
   "id": "6050b1db",
   "metadata": {},
   "outputs": [],
   "source": [
    "# Print out the time benchmark\n",
    "time1 = time.perf_counter()\n",
    "print(f\"Runtime so far: {time1 - time0:0.4f} seconds\")\n",
    "print(f\"Runtime for Detector1: {time1 - time_det1} seconds\")"
   ]
  },
  {
   "cell_type": "markdown",
   "id": "474f7f15",
   "metadata": {},
   "source": [
    "<hr style=\"border:1px solid gray\"> </hr>"
   ]
  },
  {
   "cell_type": "markdown",
   "id": "8e9e53a7",
   "metadata": {},
   "source": [
    "<hr style=\"border:1px solid gray\"> </hr>"
   ]
  },
  {
   "cell_type": "markdown",
   "id": "3118529a",
   "metadata": {},
   "source": [
    "6.<font color='white'>-</font>Compare Outputs<a class=\"anchor\" id=\"compare-outputs\"></a>\n",
    "------------------\n",
    "Extract fluxes from strips in the `*_rateints.fits` files and generate comparison plots. The fluxes are in units of DN/sec.<br>"
   ]
  },
  {
   "cell_type": "code",
   "execution_count": null,
   "id": "94145d2e",
   "metadata": {},
   "outputs": [],
   "source": [
    "# Read in the first rate files from the output directories\n",
    "file = sorted(glob.glob(f'{det1_dir}/*rateints.fits'))[0]\n",
    "imgs = fits.getdata(file, 'SCI')\n",
    "ngrps = fits.getheader(file, 'PRIMARY')['NGROUPS']\n",
    "nints = fits.getheader(file, 'PRIMARY')['NINTS']\n",
    "file_new = sorted(glob.glob(f'{det1_dir_new}/*rateints.fits'))[0]\n",
    "imgs_new = fits.getdata(file_new, 'SCI')\n",
    "\n",
    "print(\"Number of integrations = {}\".format(nints))\n",
    "print(\"Number of groups per integration = {}\".format(ngrps))\n",
    "\n",
    "# Make normal plots\n",
    "%matplotlib inline\n",
    "# Interactive plots\n",
    "#%matplotlib notebook\n",
    "\n",
    "# For first (up to) 10 integrations, extract flux across the subarray and plot\n",
    "for i in range(min(nints,10)):\n",
    "    flux = np.nanmedian(imgs[i][2:, 12:], axis=1)\n",
    "    flux_new = np.nanmedian(imgs_new[i][2:, 12:], axis=1)\n",
    "\n",
    "    rc('axes', linewidth=2)\n",
    "    fig, ax = plt.subplots(1, 1, figsize=(10, 5), dpi=150)\n",
    "    ax.plot(np.arange(len(flux)), flux, color='blue', ls=':', lw=2, label='Standard EMICORR')\n",
    "    ax.plot(np.arange(len(flux_new)), flux_new, color='blue', ls='-', lw=2, label='New EMICORR')\n",
    "    plt.xlabel('Row number [px]')\n",
    "    plt.ylabel('Flux (DN/sec)')\n",
    "    plt.grid()\n",
    "    plt.legend(loc='best')\n",
    "    plt.tight_layout()\n",
    "    plt.savefig(os.path.join(obs_dir, f'emicorr_test_int{i+1}.png'))\n",
    "    plt.close()"
   ]
  },
  {
   "cell_type": "markdown",
   "id": "606de7f1",
   "metadata": {},
   "source": [
    "<hr style=\"border:1px solid gray\"> </hr>"
   ]
  },
  {
   "cell_type": "code",
   "execution_count": null,
   "id": "8469e6e5",
   "metadata": {},
   "outputs": [],
   "source": [
    "if do_viz:\n",
    "    # Get x1dints files\n",
    "    x1d_file = os.path.join(tso3_dir, 'Stage3_x1dints.fits')\n",
    "\n",
    "    # Choose arbitrary wavelength elements to extract\n",
    "    wave_idxs = [100, 200, 350]\n",
    "    colors = ['r','g','b']\n",
    "\n",
    "    # Read in file\n",
    "    hdul = fits.open(x1d_file)\n",
    "    int_times = hdul[1].data['int_mid_MJD_UTC']\n",
    "    spec_tables = hdul[2:-1]\n",
    "    wave = spec_tables[0].data['WAVELENGTH']\n",
    "\n",
    "    # Plot light curves\n",
    "    rc('axes', linewidth=2)\n",
    "    fig, ax = plt.subplots(1, 1, figsize=(10, 5), dpi=150)\n",
    "    for ii in range(len(wave_idxs)):\n",
    "        lc = np.array([spec_tables[k].data['FLUX'][wave_idxs[ii]] for k in range(len(int_times))])\n",
    "        ax.plot(int_times, lc, colors[ii]+'-', lw=2, label=\"{:.3f} um\".format(wave[wave_idxs[ii]]))\n",
    "    plt.xlabel('MJD_UTC (d)')\n",
    "    plt.ylabel('Flux (Jy)')\n",
    "    plt.grid()\n",
    "    plt.legend(loc='best')\n",
    "    plt.tight_layout()\n",
    "    plt.savefig(os.path.join(tso3_dir, 'lrs_slitless_example_speclcs.png'))\n",
    "    hdul.close()\n"
   ]
  },
  {
   "cell_type": "markdown",
   "id": "2061cf46",
   "metadata": {},
   "source": [
    "<hr style=\"border:1px solid gray\"> </hr>"
   ]
  },
  {
   "cell_type": "markdown",
   "id": "3c3c6862",
   "metadata": {},
   "source": [
    "<img style=\"float: center;\" src=\"https://github.com/spacetelescope/jwst-pipeline-notebooks/raw/main/_static/stsci_footer.png\" alt=\"stsci_logo\" width=\"200px\"/> "
   ]
  }
 ],
 "metadata": {
  "kernelspec": {
   "display_name": "Python 3 (ipykernel)",
   "language": "python",
   "name": "python3"
  },
  "language_info": {
   "codemirror_mode": {
    "name": "ipython",
    "version": 3
   },
   "file_extension": ".py",
   "mimetype": "text/x-python",
   "name": "python",
   "nbconvert_exporter": "python",
   "pygments_lexer": "ipython3",
   "version": "3.12.9"
  }
 },
 "nbformat": 4,
 "nbformat_minor": 5
}
